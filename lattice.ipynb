{
 "cells": [
  {
   "cell_type": "code",
   "execution_count": 3,
   "metadata": {},
   "outputs": [
    {
     "name": "stdout",
     "output_type": "stream",
     "text": [
      "['theta', 'vz tilde', 'r tilde', 'phir']\n",
      "[10, 11, 2, 20]\n",
      "[0.         0.62831853 1.25663706 1.88495559 2.51327412 3.14159265\n",
      " 3.76991118 4.39822972 5.02654825 5.65486678]\n",
      "Description: ['theta', 'vz tilde', 'r tilde', 'phir']\n",
      "Shape: [10, 11, 2, 20]\n",
      "(0, 1, 2, 3)\n"
     ]
    }
   ],
   "source": [
    "%run lattice.py"
   ]
  },
  {
   "cell_type": "code",
   "execution_count": 5,
   "metadata": {},
   "outputs": [],
   "source": [
    "import sys"
   ]
  },
  {
   "cell_type": "code",
   "execution_count": 8,
   "metadata": {},
   "outputs": [],
   "source": [
    "sys.path.append('../code/')"
   ]
  },
  {
   "cell_type": "code",
   "execution_count": 12,
   "metadata": {},
   "outputs": [],
   "source": [
    "from lattice import *"
   ]
  },
  {
   "cell_type": "code",
   "execution_count": 3,
   "metadata": {
    "scrolled": true
   },
   "outputs": [
    {
     "name": "stdout",
     "output_type": "stream",
     "text": [
      "Help on class Lattice in module lattice:\n",
      "\n",
      "class Lattice(builtins.object)\n",
      " |  Lattice(*shape)\n",
      " |  \n",
      " |  A Lattice object sets up the grid for solving kinetic transport.\n",
      " |  \n",
      " |  Parameters\n",
      " |  ----------\n",
      " |  shape : tuple of lists or tuples\n",
      " |      an element is of the form:\n",
      " |          (name of coordinate, start, end, number of grid points).\n",
      " |      Here, the coordinate inludes:\n",
      " |              'theta', 'vz tilde', 'r tilde', 'phir tilde'\n",
      " |  \n",
      " |  Attributes\n",
      " |  ----------\n",
      " |  lattice : list of floats\n",
      " |      lists of grid points in theat, r tilde, vz tilde and phir FOR NOW.\n",
      " |  shape : list of ints\n",
      " |      The list of the number of grid points in each dimension.\n",
      " |  \n",
      " |  Methods defined here:\n",
      " |  \n",
      " |  __init__(self, *shape)\n",
      " |      Initialize self.  See help(type(self)) for accurate signature.\n",
      " |  \n",
      " |  __str__(self)\n",
      " |      formulates the output of F.\n",
      " |  \n",
      " |  indices(self)\n",
      " |      Returns the index of each coordinate in self.lattice.\n",
      " |  \n",
      " |  phir(rng)\n",
      " |  \n",
      " |  r_tilde(rng)\n",
      " |  \n",
      " |  theta(rng)\n",
      " |  \n",
      " |  vz_tilde(rng)\n",
      " |  \n",
      " |  ----------------------------------------------------------------------\n",
      " |  Data descriptors defined here:\n",
      " |  \n",
      " |  __dict__\n",
      " |      dictionary for instance variables (if defined)\n",
      " |  \n",
      " |  __weakref__\n",
      " |      list of weak references to the object (if defined)\n",
      " |  \n",
      " |  ----------------------------------------------------------------------\n",
      " |  Data and other attributes defined here:\n",
      " |  \n",
      " |  lookup = {'phir': <function Lattice.phir>, 'r tilde': <function Lattic...\n",
      "\n"
     ]
    }
   ],
   "source": [
    "help(Lattice)"
   ]
  },
  {
   "cell_type": "code",
   "execution_count": 5,
   "metadata": {},
   "outputs": [],
   "source": [
    "latt = Lattice(('theta', 10), ('vz tilde', 0.0, 15.0, 11),\n",
    "                ('r tilde', 0.0, 5.0, 2), ('phir', 20))"
   ]
  },
  {
   "cell_type": "code",
   "execution_count": 6,
   "metadata": {},
   "outputs": [
    {
     "name": "stdout",
     "output_type": "stream",
     "text": [
      "['theta', 'vz tilde', 'r tilde', 'phir']\n"
     ]
    }
   ],
   "source": [
    "print(latt.description)"
   ]
  },
  {
   "cell_type": "code",
   "execution_count": 7,
   "metadata": {},
   "outputs": [
    {
     "name": "stdout",
     "output_type": "stream",
     "text": [
      "[10, 11, 2, 20]\n"
     ]
    }
   ],
   "source": [
    "print(latt.shape)"
   ]
  },
  {
   "cell_type": "code",
   "execution_count": 8,
   "metadata": {},
   "outputs": [
    {
     "name": "stdout",
     "output_type": "stream",
     "text": [
      "[array([0.        , 0.62831853, 1.25663706, 1.88495559, 2.51327412,\n",
      "       3.14159265, 3.76991118, 4.39822972, 5.02654825, 5.65486678]), array([0.        , 0.63514895, 0.90514825, 0.97802611, 0.99505475,\n",
      "       0.99889444, 0.99975321, 0.99994493, 0.99998771, 0.99999726,\n",
      "       0.99999939]), array([0., 5.]), array([0.        , 0.31415927, 0.62831853, 0.9424778 , 1.25663706,\n",
      "       1.57079633, 1.88495559, 2.19911486, 2.51327412, 2.82743339,\n",
      "       3.14159265, 3.45575192, 3.76991118, 4.08407045, 4.39822972,\n",
      "       4.71238898, 5.02654825, 5.34070751, 5.65486678, 5.96902604])]\n"
     ]
    }
   ],
   "source": [
    "print(latt.lattice)"
   ]
  },
  {
   "cell_type": "code",
   "execution_count": 9,
   "metadata": {},
   "outputs": [
    {
     "name": "stdout",
     "output_type": "stream",
     "text": [
      "Description: ['theta', 'vz tilde', 'r tilde', 'phir']\n",
      "Shape: [10, 11, 2, 20]\n"
     ]
    }
   ],
   "source": [
    "print(latt)"
   ]
  },
  {
   "cell_type": "code",
   "execution_count": 10,
   "metadata": {},
   "outputs": [
    {
     "name": "stdout",
     "output_type": "stream",
     "text": [
      "(0, 1, 2, 3)\n"
     ]
    }
   ],
   "source": [
    "print(latt.indices())"
   ]
  },
  {
   "cell_type": "code",
   "execution_count": null,
   "metadata": {},
   "outputs": [],
   "source": []
  }
 ],
 "metadata": {
  "kernelspec": {
   "display_name": "Python 3",
   "language": "python",
   "name": "python3"
  },
  "language_info": {
   "codemirror_mode": {
    "name": "ipython",
    "version": 3
   },
   "file_extension": ".py",
   "mimetype": "text/x-python",
   "name": "python",
   "nbconvert_exporter": "python",
   "pygments_lexer": "ipython3",
   "version": "3.7.3"
  }
 },
 "nbformat": 4,
 "nbformat_minor": 2
}
