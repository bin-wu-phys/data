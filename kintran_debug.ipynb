{
 "cells": [
  {
   "cell_type": "markdown",
   "metadata": {},
   "source": [
    "# Purpose of this project"
   ]
  },
  {
   "cell_type": "markdown",
   "metadata": {},
   "source": [
    "In this project, we first start with a gaussian initial condition of the form\n",
    "$$F(t=0)\\to\\sum\\limits_n \\delta_n r^n e^{i n \\theta} e^{-r^2}\\delta(v_z).$$\n",
    "We actually start at $t=t_0$. As a result, we have\n",
    "$$r^2\\to r^2 + t_0^2 - 2 r t_0 \\cos\\phi_r$$\n",
    "and $\\phi$ is the azimuthal angle in the momentum space. For simplicity, we assume $\\delta_n$ to be purely real. As a result, we can combine the $n$ and $-n$ harmonic decomposition. For example, for $n=2$, we have\n",
    "$$\\delta_2 e^{i 2 \\theta}+\\delta_{-2} e^{-i 2 \\theta}=2\\delta_2 \\cos(2\\theta)$$.\n",
    "Free-streaming mixes $\\theta$ and $\\phi$ and one has\n",
    "$$2 \\delta_2 r^2 \\cos(2\\theta)\\to \\delta_2[ r^2 - 2 r t_0\\cos\\phi_r + t_0^2\\cos(2\\phi_r) + 2 i (r-t_0\\cos\\phi_r)t_0 ]e^{2i\\theta}+c.c.$$\n",
    "\n",
    "We shall first study the non-linear response including only $n = 0$ and $\\pm2$."
   ]
  },
  {
   "cell_type": "markdown",
   "metadata": {},
   "source": [
    "# 1. Test FFT and Inverse FFT"
   ]
  },
  {
   "cell_type": "code",
   "execution_count": 1,
   "metadata": {},
   "outputs": [],
   "source": [
    "import sys\n",
    "sys.path.append('../code/')\n",
    "from code.lattice import *\n",
    "from code.initcond import *\n",
    "from code.kernel import *\n",
    "from code.kintran import *\n",
    "from code.observable import *"
   ]
  },
  {
   "cell_type": "code",
   "execution_count": 6,
   "metadata": {},
   "outputs": [
    {
     "name": "stdout",
     "output_type": "stream",
     "text": [
      "4794310344\n"
     ]
    }
   ],
   "source": [
    "\n",
    "latt = Lattice(('theta', 10),\n",
    "                ('r tilde', 0.0, 5.0, 2),\n",
    "                ('phir', 4),\n",
    "                ('vz tilde', 0.0, 15.0, 4))\n",
    "print(id(latt.lattice))\n",
    "\n",
    "ic = InitCond('gaussian', 0.1, (2, 1.0))\n",
    "\n",
    "t0 = 0.1\n",
    "ob = Observable(t0, latt)\n",
    "\n",
    "C = Kernel()\n",
    "\n",
    "kt = KinTran(ic, latt, C)\n",
    "\n",
    "#print(kt.F)"
   ]
  },
  {
   "cell_type": "code",
   "execution_count": 2,
   "metadata": {},
   "outputs": [
    {
     "name": "stdout",
     "output_type": "stream",
     "text": [
      "4763402184\n",
      "((2, 1.0),)\n"
     ]
    },
    {
     "ename": "TypeError",
     "evalue": "__init__() got an unexpected keyword argument 'latt'",
     "output_type": "error",
     "traceback": [
      "\u001b[0;31m---------------------------------------------------------------------------\u001b[0m",
      "\u001b[0;31mTypeError\u001b[0m                                 Traceback (most recent call last)",
      "\u001b[0;32m<ipython-input-2-ad781645701c>\u001b[0m in \u001b[0;36m<module>\u001b[0;34m\u001b[0m\n\u001b[1;32m     11\u001b[0m \u001b[0mob\u001b[0m \u001b[0;34m=\u001b[0m \u001b[0mObservable\u001b[0m\u001b[0;34m(\u001b[0m\u001b[0mt0\u001b[0m\u001b[0;34m,\u001b[0m \u001b[0mlatt\u001b[0m\u001b[0;34m)\u001b[0m\u001b[0;34m\u001b[0m\u001b[0;34m\u001b[0m\u001b[0m\n\u001b[1;32m     12\u001b[0m \u001b[0;34m\u001b[0m\u001b[0m\n\u001b[0;32m---> 13\u001b[0;31m \u001b[0mC\u001b[0m \u001b[0;34m=\u001b[0m \u001b[0mkernelITA\u001b[0m\u001b[0;34m(\u001b[0m\u001b[0mlatt\u001b[0m\u001b[0;34m=\u001b[0m\u001b[0mlatt\u001b[0m\u001b[0;34m,\u001b[0m \u001b[0mob\u001b[0m\u001b[0;34m=\u001b[0m\u001b[0mob\u001b[0m\u001b[0;34m)\u001b[0m\u001b[0;34m\u001b[0m\u001b[0;34m\u001b[0m\u001b[0m\n\u001b[0m\u001b[1;32m     14\u001b[0m \u001b[0mprint\u001b[0m\u001b[0;34m(\u001b[0m\u001b[0mid\u001b[0m\u001b[0;34m(\u001b[0m\u001b[0mC\u001b[0m\u001b[0;34m.\u001b[0m\u001b[0mlatt\u001b[0m\u001b[0;34m.\u001b[0m\u001b[0mlattice\u001b[0m\u001b[0;34m)\u001b[0m\u001b[0;34m)\u001b[0m\u001b[0;34m\u001b[0m\u001b[0;34m\u001b[0m\u001b[0m\n\u001b[1;32m     15\u001b[0m \u001b[0;34m\u001b[0m\u001b[0m\n",
      "\u001b[0;31mTypeError\u001b[0m: __init__() got an unexpected keyword argument 'latt'"
     ]
    }
   ],
   "source": [
    "\n",
    "latt = Lattice(('theta', 10),\n",
    "                ('r tilde', 0.0, 5.0, 2),\n",
    "                ('phir', 4),\n",
    "                ('vz tilde', 0.0, 15.0, 4))\n",
    "print(id(latt.lattice))\n",
    "\n",
    "ic = InitCond('gaussian', 0.1, (2, 1.0))\n",
    "\n",
    "t0 = 0.1\n",
    "ob = Observable(t0, latt)\n",
    "\n",
    "C = kernelITA(latt=latt, ob=ob)\n",
    "print(id(C.latt.lattice))\n",
    "\n",
    "kt = KinTran(ic, latt, C)\n",
    "\n",
    "#print(kt.F)"
   ]
  },
  {
   "cell_type": "code",
   "execution_count": 3,
   "metadata": {},
   "outputs": [
    {
     "data": {
      "text/plain": [
       "array([200.69642931+0.j,   0.        +0.j,   2.00696429+0.j,\n",
       "         0.        +0.j,   0.        +0.j,   0.        +0.j])"
      ]
     },
     "execution_count": 3,
     "metadata": {},
     "output_type": "execute_result"
    }
   ],
   "source": [
    "kt.F[:, 0, 0, 0]"
   ]
  },
  {
   "cell_type": "code",
   "execution_count": 4,
   "metadata": {},
   "outputs": [
    {
     "data": {
      "text/plain": [
       "array([20.47103579+0.j, 20.19368015+0.j, 19.74490929+0.j, 19.74490929+0.j,\n",
       "       20.19368015+0.j, 20.47103579+0.j, 20.19368015+0.j, 19.74490929+0.j,\n",
       "       19.74490929+0.j, 20.19368015+0.j])"
      ]
     },
     "execution_count": 4,
     "metadata": {},
     "output_type": "execute_result"
    }
   ],
   "source": [
    "ob.calcphir()\n",
    "C.Ftheta(kt.F, 0,0,0)"
   ]
  },
  {
   "cell_type": "code",
   "execution_count": 6,
   "metadata": {},
   "outputs": [
    {
     "data": {
      "text/plain": [
       "array([20.47103579, 20.19368015, 19.74490929, 19.74490929, 20.19368015,\n",
       "       20.47103579, 20.19368015, 19.74490929, 19.74490929, 20.19368015])"
      ]
     },
     "execution_count": 6,
     "metadata": {},
     "output_type": "execute_result"
    }
   ],
   "source": [
    "ic.gausstheta(latt)[:, 0, 0, 0]"
   ]
  },
  {
   "cell_type": "code",
   "execution_count": 7,
   "metadata": {},
   "outputs": [
    {
     "data": {
      "text/plain": [
       "array([1.+0.j, 1.+0.j, 1.+0.j, 1.+0.j, 1.+0.j, 1.+0.j, 1.+0.j, 1.+0.j,\n",
       "       1.+0.j, 1.+0.j])"
      ]
     },
     "execution_count": 7,
     "metadata": {},
     "output_type": "execute_result"
    }
   ],
   "source": [
    "C.Ftheta(kt.F, 0,0,0)/ic.gausstheta(latt)[:, 0, 0, 0]"
   ]
  },
  {
   "cell_type": "code",
   "execution_count": 8,
   "metadata": {},
   "outputs": [
    {
     "data": {
      "text/plain": [
       "3.197442310920451e-14"
      ]
     },
     "execution_count": 8,
     "metadata": {},
     "output_type": "execute_result"
    }
   ],
   "source": [
    "np.sum(np.abs(C.Ftheta(kt.F, 0,0,0)-ic.gausstheta(latt)[:, 0, 0, 0]))"
   ]
  },
  {
   "cell_type": "markdown",
   "metadata": {},
   "source": [
    "# 2. Very $1^{st}$ run"
   ]
  },
  {
   "cell_type": "code",
   "execution_count": 1,
   "metadata": {},
   "outputs": [],
   "source": [
    "import sys\n",
    "sys.path.append('../code/')\n",
    "from lattice import *\n",
    "from observable import *\n",
    "from kernel import *\n",
    "from kintran import *\n",
    "import numpy as np\n",
    "from initcond import *\n",
    "import timeit\n",
    "from eshow import *"
   ]
  },
  {
   "cell_type": "code",
   "execution_count": 2,
   "metadata": {},
   "outputs": [],
   "source": [
    "latt = Lattice(('r tilde', 0.0, 5.0, 41),\n",
    "                ('vz tilde', 0.0, 15.0, 41),\n",
    "                ('phir', 40),\n",
    "                ('theta', 10))"
   ]
  },
  {
   "cell_type": "code",
   "execution_count": 3,
   "metadata": {},
   "outputs": [
    {
     "name": "stdout",
     "output_type": "stream",
     "text": [
      "((2, 1.0),)\n"
     ]
    }
   ],
   "source": [
    "t0 = 0.1\n",
    "ob = Observable(t0, latt)\n",
    "ic = InitCond('gaussian', t0, (2, 1.0))\n",
    "C = kernelITA(ob=ob)\n",
    "kt = KinTran(ic, latt, C)"
   ]
  },
  {
   "cell_type": "code",
   "execution_count": 4,
   "metadata": {},
   "outputs": [
    {
     "name": "stderr",
     "output_type": "stream",
     "text": [
      "/Library/Frameworks/Python.framework/Versions/3.7/lib/python3.7/site-packages/scipy/interpolate/interpolate.py:243: ComplexWarning: Casting complex values to real discards the imaginary part\n",
      "  kx=kx, ky=ky, s=0.0)\n"
     ]
    }
   ],
   "source": [
    "ob.interp(kt.F)"
   ]
  },
  {
   "cell_type": "code",
   "execution_count": 5,
   "metadata": {},
   "outputs": [],
   "source": [
    "ob.update()"
   ]
  },
  {
   "cell_type": "code",
   "execution_count": 6,
   "metadata": {},
   "outputs": [],
   "source": [
    "ob.InterpRestFrame(0.2)"
   ]
  },
  {
   "cell_type": "code",
   "execution_count": 7,
   "metadata": {},
   "outputs": [
    {
     "data": {
      "image/png": "[encoded data removed]",
      "text/plain": [
       "<Figure size 432x288 with 2 Axes>"
      ]
     },
     "metadata": {
      "needs_background": "light"
     },
     "output_type": "display_data"
    }
   ],
   "source": [
    "kt.showEnergyDensity()"
   ]
  },
  {
   "cell_type": "code",
   "execution_count": null,
   "metadata": {},
   "outputs": [],
   "source": [
    "while kt.t <=2.0:\n",
    "    kt.nextTime()\n",
    "    kt.showEnergyDensity()"
   ]
  },
  {
   "cell_type": "code",
   "execution_count": null,
   "metadata": {},
   "outputs": [],
   "source": []
  }
 ],
 "metadata": {
  "kernelspec": {
   "display_name": "Python 3",
   "language": "python",
   "name": "python3"
  },
  "language_info": {
   "codemirror_mode": {
    "name": "ipython",
    "version": 3
   },
   "file_extension": ".py",
   "mimetype": "text/x-python",
   "name": "python",
   "nbconvert_exporter": "python",
   "pygments_lexer": "ipython3",
   "version": "3.7.3"
  }
 },
 "nbformat": 4,
 "nbformat_minor": 2
}
