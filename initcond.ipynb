{
 "cells": [
  {
   "cell_type": "code",
   "execution_count": 1,
   "metadata": {},
   "outputs": [],
   "source": [
    "import sys\n",
    "sys.path.append('../Code/')\n",
    "from initcond import *\n",
    "import numpy as np\n",
    "from lattice import *\n",
    "import matplotlib.pyplot as plt\n",
    "from mpl_toolkits.mplot3d import Axes3D\n",
    "import time"
   ]
  },
  {
   "cell_type": "code",
   "execution_count": 9,
   "metadata": {},
   "outputs": [
    {
     "data": {
      "text/plain": [
       "'/Users/biwu/miniconda3/lib/python3.7/site-packages/numpy/__init__.py'"
      ]
     },
     "execution_count": 9,
     "metadata": {},
     "output_type": "execute_result"
    }
   ],
   "source": [
    "np.__file__"
   ]
  },
  {
   "cell_type": "markdown",
   "metadata": {},
   "source": [
    "# The gaussian profile"
   ]
  },
  {
   "cell_type": "code",
   "execution_count": 2,
   "metadata": {},
   "outputs": [],
   "source": [
    "ic = InitCond('gaussian', 0.1, (2, 1.0), (3, 1.0), (4, 1.0), (5, 1.0))"
   ]
  },
  {
   "cell_type": "code",
   "execution_count": 3,
   "metadata": {},
   "outputs": [
    {
     "data": {
      "text/plain": [
       "array([0.91566319-0.05989967j, 0.54929434-0.05399577j,\n",
       "       0.27939941-0.03671188j, 0.12543446-0.02066866j])"
      ]
     },
     "execution_count": 3,
     "metadata": {},
     "output_type": "execute_result"
    }
   ],
   "source": [
    "ic.FTn(1.0, 0.3)"
   ]
  },
  {
   "cell_type": "markdown",
   "metadata": {},
   "source": [
    "# The background"
   ]
  },
  {
   "cell_type": "code",
   "execution_count": 4,
   "metadata": {},
   "outputs": [
    {
     "name": "stdout",
     "output_type": "stream",
     "text": [
      "Description: ['r tilde', 'vz tilde', 'phir', 'theta']\n",
      "Shape: [31, 21, 40, 10]\n",
      "[array([0. , 0.1, 0.2, 0.3, 0.4, 0.5, 0.6, 0.7, 0.8, 0.9, 1. , 1.1, 1.2,\n",
      "       1.3, 1.4, 1.5, 1.6, 1.7, 1.8, 1.9, 2. , 2.1, 2.2, 2.3, 2.4, 2.5,\n",
      "       2.6, 2.7, 2.8, 2.9, 3. ]), array([0.        , 0.24491866, 0.46211716, 0.63514895, 0.76159416,\n",
      "       0.84828364, 0.90514825, 0.94137554, 0.96402758, 0.97802611,\n",
      "       0.9866143 , 0.99185972, 0.99505475, 0.99699764, 0.9981779 ,\n",
      "       0.99889444, 0.9993293 , 0.99959315, 0.99975321, 0.99985031,\n",
      "       0.9999092 ]), array([1.00000000e-07, 1.57079733e-01, 3.14159365e-01, 4.71238998e-01,\n",
      "       6.28318631e-01, 7.85398263e-01, 9.42477896e-01, 1.09955753e+00,\n",
      "       1.25663716e+00, 1.41371679e+00, 1.57079643e+00, 1.72787606e+00,\n",
      "       1.88495569e+00, 2.04203532e+00, 2.19911496e+00, 2.35619459e+00,\n",
      "       2.51327422e+00, 2.67035386e+00, 2.82743349e+00, 2.98451312e+00,\n",
      "       3.14159275e+00, 3.29867239e+00, 3.45575202e+00, 3.61283165e+00,\n",
      "       3.76991128e+00, 3.92699092e+00, 4.08407055e+00, 4.24115018e+00,\n",
      "       4.39822982e+00, 4.55530945e+00, 4.71238908e+00, 4.86946871e+00,\n",
      "       5.02654835e+00, 5.18362798e+00, 5.34070761e+00, 5.49778724e+00,\n",
      "       5.65486688e+00, 5.81194651e+00, 5.96902614e+00, 6.12610577e+00]), array([0.        , 0.62831853, 1.25663706, 1.88495559, 2.51327412,\n",
      "       3.14159265, 3.76991118, 4.39822972, 5.02654825, 5.65486678])]\n"
     ]
    }
   ],
   "source": [
    "latt = Lattice(('r tilde', 0.0, 3.0, 31),\n",
    "                ('vz tilde', 0.0, 10.0, 21),\n",
    "                ('phir', 40),\n",
    "                ('theta', 10))\n",
    "print(latt)\n",
    "print(latt.lattice)"
   ]
  },
  {
   "cell_type": "code",
   "execution_count": 5,
   "metadata": {},
   "outputs": [],
   "source": [
    "ic = InitCond('gaussian', 0.1, (2, 0.0))"
   ]
  },
  {
   "cell_type": "code",
   "execution_count": 6,
   "metadata": {},
   "outputs": [
    {
     "data": {
      "text/plain": [
       "19.98214257259169"
      ]
     },
     "execution_count": 6,
     "metadata": {},
     "output_type": "execute_result"
    }
   ],
   "source": [
    "ic.Fbg(0.1, 0.3)"
   ]
  },
  {
   "cell_type": "markdown",
   "metadata": {},
   "source": [
    "It agrees with the result in 'initcond.nb'."
   ]
  },
  {
   "cell_type": "markdown",
   "metadata": {},
   "source": [
    "# The full distribution"
   ]
  },
  {
   "cell_type": "code",
   "execution_count": 7,
   "metadata": {},
   "outputs": [
    {
     "data": {
      "text/plain": [
       "array([0.93890381])"
      ]
     },
     "execution_count": 7,
     "metadata": {},
     "output_type": "execute_result"
    }
   ],
   "source": [
    "ic.Fn(0.1, 0.2, 0.3)"
   ]
  },
  {
   "cell_type": "code",
   "execution_count": 8,
   "metadata": {},
   "outputs": [
    {
     "name": "stdout",
     "output_type": "stream",
     "text": [
      "Description: ['r tilde', 'vz tilde', 'phir', 'theta']\n",
      "Shape: [31, 21, 40, 10]\n"
     ]
    }
   ],
   "source": [
    "print(latt)"
   ]
  },
  {
   "cell_type": "code",
   "execution_count": 9,
   "metadata": {},
   "outputs": [
    {
     "name": "stdout",
     "output_type": "stream",
     "text": [
      "((2, 1.0),)\n"
     ]
    }
   ],
   "source": [
    "ic = InitCond('gaussian', 0.1, (2, 1.0))"
   ]
  },
  {
   "cell_type": "code",
   "execution_count": 10,
   "metadata": {},
   "outputs": [
    {
     "data": {
      "text/plain": [
       "[array([0. , 0.1, 0.2, 0.3, 0.4, 0.5, 0.6, 0.7, 0.8, 0.9, 1. , 1.1, 1.2,\n",
       "        1.3, 1.4, 1.5, 1.6, 1.7, 1.8, 1.9, 2. , 2.1, 2.2, 2.3, 2.4, 2.5,\n",
       "        2.6, 2.7, 2.8, 2.9, 3. ]),\n",
       " array([0.        , 0.24491866, 0.46211716, 0.63514895, 0.76159416,\n",
       "        0.84828364, 0.90514825, 0.94137554, 0.96402758, 0.97802611,\n",
       "        0.9866143 , 0.99185972, 0.99505475, 0.99699764, 0.9981779 ,\n",
       "        0.99889444, 0.9993293 , 0.99959315, 0.99975321, 0.99985031,\n",
       "        0.9999092 ]),\n",
       " array([1.00000000e-07, 1.57079733e-01, 3.14159365e-01, 4.71238998e-01,\n",
       "        6.28318631e-01, 7.85398263e-01, 9.42477896e-01, 1.09955753e+00,\n",
       "        1.25663716e+00, 1.41371679e+00, 1.57079643e+00, 1.72787606e+00,\n",
       "        1.88495569e+00, 2.04203532e+00, 2.19911496e+00, 2.35619459e+00,\n",
       "        2.51327422e+00, 2.67035386e+00, 2.82743349e+00, 2.98451312e+00,\n",
       "        3.14159275e+00, 3.29867239e+00, 3.45575202e+00, 3.61283165e+00,\n",
       "        3.76991128e+00, 3.92699092e+00, 4.08407055e+00, 4.24115018e+00,\n",
       "        4.39822982e+00, 4.55530945e+00, 4.71238908e+00, 4.86946871e+00,\n",
       "        5.02654835e+00, 5.18362798e+00, 5.34070761e+00, 5.49778724e+00,\n",
       "        5.65486688e+00, 5.81194651e+00, 5.96902614e+00, 6.12610577e+00]),\n",
       " array([0.        , 0.62831853, 1.25663706, 1.88495559, 2.51327412,\n",
       "        3.14159265, 3.76991118, 4.39822972, 5.02654825, 5.65486678])]"
      ]
     },
     "execution_count": 10,
     "metadata": {},
     "output_type": "execute_result"
    }
   ],
   "source": [
    "latt.lattice"
   ]
  },
  {
   "cell_type": "code",
   "execution_count": 11,
   "metadata": {},
   "outputs": [
    {
     "data": {
      "text/plain": [
       "16.867158903606086"
      ]
     },
     "execution_count": 11,
     "metadata": {},
     "output_type": "execute_result"
    }
   ],
   "source": [
    "ic.gausstheta(latt)[1,0,1,1]*latt.lattice[1][1]"
   ]
  },
  {
   "cell_type": "code",
   "execution_count": 12,
   "metadata": {},
   "outputs": [
    {
     "data": {
      "text/plain": [
       "10.917499638042067"
      ]
     },
     "execution_count": 12,
     "metadata": {},
     "output_type": "execute_result"
    }
   ],
   "source": [
    "ic.gausstheta(latt)[4,0,1,1]*latt.lattice[1][1]"
   ]
  },
  {
   "cell_type": "markdown",
   "metadata": {},
   "source": [
    "# Comparison"
   ]
  },
  {
   "cell_type": "code",
   "execution_count": 13,
   "metadata": {},
   "outputs": [
    {
     "name": "stdout",
     "output_type": "stream",
     "text": [
      "((2, 1.0),)\n"
     ]
    }
   ],
   "source": [
    "lattm = Lattice(('theta', 8), ('vz tilde', 0.0, 15.0, 11), ('r tilde', 0.0, 5.0, 13),\n",
    "                ('phir', 5))\n",
    "ic = InitCond('gaussian', 0.1, (2, 1.0))"
   ]
  },
  {
   "cell_type": "code",
   "execution_count": 14,
   "metadata": {},
   "outputs": [
    {
     "data": {
      "text/plain": [
       "[array([0.        , 0.78539816, 1.57079633, 2.35619449, 3.14159265,\n",
       "        3.92699082, 4.71238898, 5.49778714]),\n",
       " array([0.        , 0.63514895, 0.90514825, 0.97802611, 0.99505475,\n",
       "        0.99889444, 0.99975321, 0.99994493, 0.99998771, 0.99999726,\n",
       "        0.99999939]),\n",
       " array([0.        , 0.41666667, 0.83333333, 1.25      , 1.66666667,\n",
       "        2.08333333, 2.5       , 2.91666667, 3.33333333, 3.75      ,\n",
       "        4.16666667, 4.58333333, 5.        ]),\n",
       " array([1.00000000e-07, 1.25663716e+00, 2.51327422e+00, 3.76991128e+00,\n",
       "        5.02654835e+00])]"
      ]
     },
     "execution_count": 14,
     "metadata": {},
     "output_type": "execute_result"
    }
   ],
   "source": [
    "lattm.lattice"
   ]
  },
  {
   "cell_type": "code",
   "execution_count": 15,
   "metadata": {},
   "outputs": [],
   "source": [
    "F0 = ic.gausstheta(lattm)"
   ]
  },
  {
   "cell_type": "code",
   "execution_count": 29,
   "metadata": {},
   "outputs": [],
   "source": [
    "f = open('F0.dat')"
   ]
  },
  {
   "cell_type": "code",
   "execution_count": 30,
   "metadata": {},
   "outputs": [],
   "source": [
    "f.seek(0)\n",
    "a = f.read().replace('\\t',',').replace('\\n',',').replace('{','').replace('}','').replace(' ','').replace('*^','e').split(',')\n",
    "F0math = np.reshape(np.array([float(num) for num in a]), lattm.shape)"
   ]
  },
  {
   "cell_type": "code",
   "execution_count": 31,
   "metadata": {},
   "outputs": [
    {
     "data": {
      "text/plain": [
       "1.195115119084197e-12"
      ]
     },
     "execution_count": 31,
     "metadata": {},
     "output_type": "execute_result"
    }
   ],
   "source": [
    "np.sum(np.abs(F0math - F0))"
   ]
  },
  {
   "cell_type": "code",
   "execution_count": 32,
   "metadata": {},
   "outputs": [],
   "source": [
    "f.close()"
   ]
  },
  {
   "cell_type": "markdown",
   "metadata": {},
   "source": [
    "# FFT"
   ]
  },
  {
   "cell_type": "code",
   "execution_count": 2,
   "metadata": {},
   "outputs": [
    {
     "name": "stdout",
     "output_type": "stream",
     "text": [
      "((2, 1.0),)\n"
     ]
    }
   ],
   "source": [
    "lattm = Lattice(('theta', 8), ('vz tilde', 0.0, 15.0, 11), ('r tilde', 0.0, 5.0, 13),\n",
    "                ('phir', 5))\n",
    "ic = InitCond('gaussian', 0.1, (2, 1.0))"
   ]
  },
  {
   "cell_type": "code",
   "execution_count": 3,
   "metadata": {},
   "outputs": [
    {
     "data": {
      "text/plain": [
       "(5, 11, 13, 5)"
      ]
     },
     "execution_count": 3,
     "metadata": {},
     "output_type": "execute_result"
    }
   ],
   "source": [
    "F0 = ic.gauss(lattm)\n",
    "F0.shape"
   ]
  },
  {
   "cell_type": "code",
   "execution_count": 4,
   "metadata": {},
   "outputs": [
    {
     "data": {
      "text/plain": [
       "array([ 1.        -2.00000000e-07j, -0.80901711-5.87785090e-01j,\n",
       "        0.30901718+9.51056454e-01j,  0.3090168 -9.51056578e-01j,\n",
       "       -0.80901688+5.87785414e-01j])"
      ]
     },
     "execution_count": 4,
     "metadata": {},
     "output_type": "execute_result"
    }
   ],
   "source": [
    "np.exp(-2.0j*lattm.lattice[3])"
   ]
  },
  {
   "cell_type": "code",
   "execution_count": 5,
   "metadata": {},
   "outputs": [
    {
     "data": {
      "text/plain": [
       "(5, 11, 13, 5)"
      ]
     },
     "execution_count": 5,
     "metadata": {},
     "output_type": "execute_result"
    }
   ],
   "source": [
    "F0fft = ic.gaussfft(lattm)\n",
    "F0fft.shape"
   ]
  },
  {
   "cell_type": "code",
   "execution_count": 6,
   "metadata": {},
   "outputs": [],
   "source": [
    "from observable import *"
   ]
  },
  {
   "cell_type": "code",
   "execution_count": 7,
   "metadata": {},
   "outputs": [],
   "source": [
    "t0 = 0.1\n",
    "ob = Observable(t0, lattm)"
   ]
  },
  {
   "cell_type": "code",
   "execution_count": 8,
   "metadata": {},
   "outputs": [],
   "source": [
    "ob.setTime(t0)"
   ]
  },
  {
   "cell_type": "code",
   "execution_count": 9,
   "metadata": {},
   "outputs": [],
   "source": [
    "ob.calcphir()"
   ]
  },
  {
   "cell_type": "code",
   "execution_count": 10,
   "metadata": {},
   "outputs": [
    {
     "data": {
      "text/plain": [
       "1.199143397990292e-12"
      ]
     },
     "execution_count": 10,
     "metadata": {},
     "output_type": "execute_result"
    }
   ],
   "source": [
    "np.sum(np.abs(ob.phir[:5, :, :, :]*F0 - F0fft))"
   ]
  },
  {
   "cell_type": "code",
   "execution_count": null,
   "metadata": {},
   "outputs": [],
   "source": []
  }
 ],
 "metadata": {
  "kernelspec": {
   "display_name": "Python 3",
   "language": "python",
   "name": "python3"
  },
  "language_info": {
   "codemirror_mode": {
    "name": "ipython",
    "version": 3
   },
   "file_extension": ".py",
   "mimetype": "text/x-python",
   "name": "python",
   "nbconvert_exporter": "python",
   "pygments_lexer": "ipython3",
   "version": "3.7.3"
  }
 },
 "nbformat": 4,
 "nbformat_minor": 2
}
