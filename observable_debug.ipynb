{
 "cells": [
  {
   "cell_type": "code",
   "execution_count": 1,
   "metadata": {},
   "outputs": [],
   "source": [
    "import sys\n",
    "sys.path.append('../code/')\n",
    "from observable import *"
   ]
  },
  {
   "cell_type": "markdown",
   "metadata": {},
   "source": [
    "# 1. Interpolation"
   ]
  },
  {
   "cell_type": "code",
   "execution_count": 2,
   "metadata": {},
   "outputs": [],
   "source": [
    "xti, yti, phi, vzti, t, t0 = 1.0, 0.5, 0.3, 0.1, 2.0, 0.1\n",
    "ob = Observable(t0)\n",
    "ob.setTime(t)"
   ]
  },
  {
   "cell_type": "code",
   "execution_count": 3,
   "metadata": {},
   "outputs": [],
   "source": [
    "F = np.array([[[[1.0, 2.0],[3.0,1.5]],[[3.0, 1.5],[1.0, 2.0]]], [[[10.0, 2.0],[3.0,15]],[[9.0, 1.5],[8.0, 2.0]]]])"
   ]
  },
  {
   "cell_type": "code",
   "execution_count": 4,
   "metadata": {},
   "outputs": [
    {
     "data": {
      "text/plain": [
       "(2, 2, 2, 2)"
      ]
     },
     "execution_count": 4,
     "metadata": {},
     "output_type": "execute_result"
    }
   ],
   "source": [
    "F.shape"
   ]
  },
  {
   "cell_type": "code",
   "execution_count": 5,
   "metadata": {},
   "outputs": [],
   "source": [
    "phi = np.array([0, 0.5])\n",
    "rt = np.array([0, 2.0])"
   ]
  },
  {
   "cell_type": "code",
   "execution_count": 6,
   "metadata": {},
   "outputs": [
    {
     "name": "stdout",
     "output_type": "stream",
     "text": [
      "[0.  0.5]\n",
      "[0. 2.]\n"
     ]
    }
   ],
   "source": [
    "print(phi)\n",
    "print(rt)"
   ]
  },
  {
   "cell_type": "code",
   "execution_count": 7,
   "metadata": {},
   "outputs": [],
   "source": [
    "ob.interpExt(F, rt, phi)"
   ]
  },
  {
   "cell_type": "code",
   "execution_count": 8,
   "metadata": {},
   "outputs": [
    {
     "name": "stdout",
     "output_type": "stream",
     "text": [
      "[1.35]\n",
      "[2.55]\n",
      "[8.1]\n",
      "[7.43]\n"
     ]
    }
   ],
   "source": [
    "print(ob.Finterp[0][0](0.2, 0.1))\n",
    "print(ob.Finterp[0][1](0.2, 0.1))\n",
    "print(ob.Finterp[1][0](0.2, 0.1))\n",
    "print(ob.Finterp[1][1](0.2, 0.1))"
   ]
  },
  {
   "cell_type": "markdown",
   "metadata": {},
   "source": [
    "The same as Mathematica."
   ]
  },
  {
   "cell_type": "code",
   "execution_count": 9,
   "metadata": {},
   "outputs": [
    {
     "name": "stdout",
     "output_type": "stream",
     "text": [
      "[0.]\n",
      "[0.]\n",
      "[0.]\n",
      "[0.]\n"
     ]
    }
   ],
   "source": [
    "print(ob.Finterp[0][0](0.2, 1))\n",
    "print(ob.Finterp[0][1](0.2, 1))\n",
    "print(ob.Finterp[1][0](0.2, 1))\n",
    "print(ob.Finterp[1][1](0.2, 1))"
   ]
  },
  {
   "cell_type": "markdown",
   "metadata": {},
   "source": [
    "Different from Mathmatica!"
   ]
  },
  {
   "cell_type": "code",
   "execution_count": 10,
   "metadata": {},
   "outputs": [
    {
     "name": "stdout",
     "output_type": "stream",
     "text": [
      "(0.0, 0.0) = [1.] vs 1.0\n",
      "(0.0, 0.5) = [2.] vs 2.0\n",
      "(2.0, 0.0) = [3.] vs 3.0\n",
      "(2.0, 0.5) = [1.5] vs 1.5\n"
     ]
    }
   ],
   "source": [
    "for i in range(len(rt)):\n",
    "    for j in range(len(phi)):\n",
    "        print('({}, {}) = {} vs {}'.format(rt[i], phi[j], ob.Finterp[0][0](rt[i], phi[j]), F[0, 0, i, j]))"
   ]
  },
  {
   "cell_type": "code",
   "execution_count": 11,
   "metadata": {},
   "outputs": [],
   "source": [
    "#rr, pp = np.meshgrid(rt, phi)"
   ]
  },
  {
   "cell_type": "code",
   "execution_count": 12,
   "metadata": {},
   "outputs": [],
   "source": [
    "#print('{}->{}'.format(rt, rr))\n",
    "#print('{}->{}'.format(phi, pp))"
   ]
  },
  {
   "cell_type": "code",
   "execution_count": 11,
   "metadata": {},
   "outputs": [],
   "source": [
    "r00 = np.array([[ob.Finterp[0][0](r, p)[0] for p in np.linspace(phi[0],phi[-1],6)] for r in np.linspace(rt[0], rt[-1], 21)])\n",
    "#r00 = np.array([[ob.F(0, 0, r, p) for p in np.linspace(phi[0],phi[-1],6)] for r in np.linspace(rt[0], rt[-1], 21)])"
   ]
  },
  {
   "cell_type": "code",
   "execution_count": 12,
   "metadata": {},
   "outputs": [],
   "source": [
    "r00math = [[1., 1.2, 1.4, 1.6, 1.8, 2.], [1.1, 1.2750000000000001, \n",
    "  1.45, 1.625, 1.8, 1.975], [1.2, 1.3499999999999999, 1.5, \n",
    "  1.65, 1.8, 1.95], [1.3, 1.425, 1.5499999999999998, 1.675, \n",
    "  1.8, 1.925], [1.4, 1.5, 1.5999999999999999, 1.7, 1.8, \n",
    "  1.9], [1.5, 1.575, 1.65, 1.725, 1.8, 1.875], [1.6, \n",
    "  1.6500000000000001, 1.7, 1.75, 1.8, \n",
    "  1.85], [1.7000000000000002, 1.725, 1.75, 1.775, 1.8, \n",
    "  1.825], [1.8, 1.8, 1.7999999999999998, 1.7999999999999998, \n",
    "  1.8, 1.8], [1.9, 1.875, 1.8499999999999999, \n",
    "  1.8249999999999997, 1.8, 1.775], [2., 1.9500000000000002, 1.9,\n",
    "   1.8499999999999999, 1.7999999999999998, 1.75], [2.1, \n",
    "  2.0250000000000004, 1.95, 1.8749999999999998, \n",
    "  1.7999999999999998, 1.725], [2.2, 2.1, 2., 1.9, \n",
    "  1.7999999999999998, 1.7], [2.3, 2.1750000000000003, 2.05, \n",
    "  1.9249999999999998, 1.7999999999999998, \n",
    "  1.675], [2.4000000000000004, 2.25, 2.1, 1.9499999999999997, \n",
    "  1.7999999999999998, 1.65], [2.5, 2.325, 2.15, \n",
    "  1.9749999999999996, 1.7999999999999998, 1.625], [2.6, \n",
    "  2.4000000000000004, 2.2, 1.9999999999999998, 1.7999999999999998,\n",
    "   1.6], [2.7, 2.475, 2.25, 2.025, 1.7999999999999998, \n",
    "  1.575], [2.8, 2.5500000000000003, 2.3, 2.05, \n",
    "  1.7999999999999998, 1.55], [2.9000000000000004, \n",
    "  2.6250000000000004, 2.35, 2.0749999999999997, \n",
    "  1.7999999999999998, 1.525], [3., 2.7, 2.4, 2.0999999999999996,\n",
    "   1.7999999999999998, 1.5]]"
   ]
  },
  {
   "cell_type": "code",
   "execution_count": 13,
   "metadata": {},
   "outputs": [
    {
     "data": {
      "text/plain": [
       "(21, 6)"
      ]
     },
     "execution_count": 13,
     "metadata": {},
     "output_type": "execute_result"
    }
   ],
   "source": [
    "r00.shape"
   ]
  },
  {
   "cell_type": "code",
   "execution_count": 14,
   "metadata": {},
   "outputs": [
    {
     "data": {
      "text/plain": [
       "array([[ 0.00000000e+00,  2.22044605e-16,  0.00000000e+00,\n",
       "         0.00000000e+00,  0.00000000e+00,  0.00000000e+00],\n",
       "       [ 0.00000000e+00,  0.00000000e+00,  2.22044605e-16,\n",
       "         0.00000000e+00,  0.00000000e+00, -2.22044605e-16],\n",
       "       [ 2.22044605e-16,  2.22044605e-16,  2.22044605e-16,\n",
       "         2.22044605e-16,  2.22044605e-16,  2.22044605e-16],\n",
       "       [ 0.00000000e+00,  0.00000000e+00,  2.22044605e-16,\n",
       "        -2.22044605e-16,  2.22044605e-16,  0.00000000e+00],\n",
       "       [ 2.22044605e-16,  4.44089210e-16,  4.44089210e-16,\n",
       "         2.22044605e-16,  0.00000000e+00,  2.22044605e-16],\n",
       "       [ 0.00000000e+00,  2.22044605e-16,  0.00000000e+00,\n",
       "         0.00000000e+00,  0.00000000e+00,  0.00000000e+00],\n",
       "       [ 0.00000000e+00,  0.00000000e+00,  2.22044605e-16,\n",
       "         0.00000000e+00, -2.22044605e-16,  0.00000000e+00],\n",
       "       [-2.22044605e-16, -2.22044605e-16,  0.00000000e+00,\n",
       "         0.00000000e+00, -2.22044605e-16, -2.22044605e-16],\n",
       "       [ 2.22044605e-16,  2.22044605e-16,  2.22044605e-16,\n",
       "         2.22044605e-16, -2.22044605e-16,  0.00000000e+00],\n",
       "       [ 2.22044605e-16,  2.22044605e-16,  2.22044605e-16,\n",
       "         2.22044605e-16,  0.00000000e+00,  2.22044605e-16],\n",
       "       [ 0.00000000e+00,  0.00000000e+00,  0.00000000e+00,\n",
       "         2.22044605e-16,  2.22044605e-16,  0.00000000e+00],\n",
       "       [ 0.00000000e+00,  0.00000000e+00,  0.00000000e+00,\n",
       "         2.22044605e-16,  2.22044605e-16,  0.00000000e+00],\n",
       "       [ 0.00000000e+00,  4.44089210e-16,  0.00000000e+00,\n",
       "         0.00000000e+00,  2.22044605e-16,  0.00000000e+00],\n",
       "       [ 4.44089210e-16,  0.00000000e+00,  4.44089210e-16,\n",
       "         2.22044605e-16,  0.00000000e+00,  0.00000000e+00],\n",
       "       [-4.44089210e-16,  0.00000000e+00,  0.00000000e+00,\n",
       "         2.22044605e-16,  0.00000000e+00,  0.00000000e+00],\n",
       "       [ 0.00000000e+00,  0.00000000e+00,  0.00000000e+00,\n",
       "         2.22044605e-16,  0.00000000e+00,  0.00000000e+00],\n",
       "       [ 4.44089210e-16,  0.00000000e+00,  0.00000000e+00,\n",
       "         2.22044605e-16,  2.22044605e-16,  0.00000000e+00],\n",
       "       [ 0.00000000e+00,  0.00000000e+00,  0.00000000e+00,\n",
       "         0.00000000e+00,  2.22044605e-16,  0.00000000e+00],\n",
       "       [ 4.44089210e-16,  0.00000000e+00,  0.00000000e+00,\n",
       "         0.00000000e+00,  0.00000000e+00,  0.00000000e+00],\n",
       "       [-4.44089210e-16,  0.00000000e+00, -4.44089210e-16,\n",
       "         0.00000000e+00,  0.00000000e+00,  0.00000000e+00],\n",
       "       [ 0.00000000e+00,  0.00000000e+00,  0.00000000e+00,\n",
       "         0.00000000e+00,  2.22044605e-16,  0.00000000e+00]])"
      ]
     },
     "execution_count": 14,
     "metadata": {},
     "output_type": "execute_result"
    }
   ],
   "source": [
    "r00 - r00math"
   ]
  },
  {
   "cell_type": "code",
   "execution_count": 14,
   "metadata": {},
   "outputs": [
    {
     "data": {
      "text/plain": [
       "1.4210854715202004e-14"
      ]
     },
     "execution_count": 14,
     "metadata": {},
     "output_type": "execute_result"
    }
   ],
   "source": [
    "np.sum(np.abs(r00 - r00math))"
   ]
  },
  {
   "cell_type": "code",
   "execution_count": 15,
   "metadata": {},
   "outputs": [],
   "source": [
    "r01 = np.array([[ob.Finterp[0][1](r, p)[0] for p in np.linspace(phi[0],phi[-1],6)] for r in np.linspace(rt[0], rt[-1], 21)])"
   ]
  },
  {
   "cell_type": "code",
   "execution_count": 16,
   "metadata": {},
   "outputs": [],
   "source": [
    "r01math = np.array([[3., 2.7, 2.4, 2.0999999999999996, 1.7999999999999998, \n",
    "  1.5], [2.9, 2.625, 2.3499999999999996, 2.0749999999999997, \n",
    "  1.7999999999999998, 1.525], [2.8, 2.5500000000000003, 2.3, \n",
    "  2.05, 1.7999999999999998, 1.55], [2.7, 2.475, 2.25, \n",
    "  2.0249999999999995, 1.7999999999999998, 1.575], [2.6, \n",
    "  2.4000000000000004, 2.2, 1.9999999999999998, 1.7999999999999998,\n",
    "   1.6], [2.5, 2.325, 2.15, 1.9749999999999996, \n",
    "  1.7999999999999998, 1.625], [2.4, 2.25, 2.0999999999999996, \n",
    "  1.9499999999999997, 1.7999999999999998, 1.65], [2.3, 2.175, \n",
    "  2.05, 1.9249999999999998, 1.7999999999999998, 1.675], [2.2, \n",
    "  2.1, 2., 1.9, 1.7999999999999998, 1.7], [2.1, \n",
    "  2.0250000000000004, 1.95, 1.875, 1.7999999999999998, \n",
    "  1.725], [2., 1.9500000000000002, 1.9, 1.8499999999999999, \n",
    "  1.7999999999999998, 1.75], [1.9, 1.875, 1.8499999999999999, \n",
    "  1.825, 1.8, 1.775], [1.7999999999999998, 1.7999999999999998, \n",
    "  1.7999999999999998, 1.7999999999999998, 1.8, 1.8], [1.7, \n",
    "  1.725, 1.75, 1.775, 1.8, 1.825], [1.5999999999999999, 1.65, \n",
    "  1.6999999999999997, 1.75, 1.8, 1.85], [1.5, 1.575, 1.65, \n",
    "  1.725, 1.8, 1.875], [1.4, 1.5, 1.5999999999999999, 1.7, 1.8,\n",
    "   1.9], [1.2999999999999998, 1.4249999999999998, \n",
    "  1.5499999999999998, 1.675, 1.8, 1.925], [1.2, \n",
    "  1.3499999999999999, 1.5, 1.6500000000000001, 1.8, \n",
    "  1.95], [1.0999999999999999, 1.275, 1.4499999999999997, 1.625, \n",
    "  1.8, 1.975], [1., 1.2, 1.4, 1.6, 1.8, 2.]])"
   ]
  },
  {
   "cell_type": "code",
   "execution_count": 17,
   "metadata": {},
   "outputs": [
    {
     "data": {
      "text/plain": [
       "1.3766765505351941e-14"
      ]
     },
     "execution_count": 17,
     "metadata": {},
     "output_type": "execute_result"
    }
   ],
   "source": [
    "np.sum(np.abs(r01 - r01math))"
   ]
  },
  {
   "cell_type": "code",
   "execution_count": 18,
   "metadata": {},
   "outputs": [],
   "source": [
    "r10 = np.array([[ob.Finterp[1][0](r, p)[0] for p in np.linspace(phi[0],phi[-1],6)] for r in np.linspace(rt[0], rt[-1], 21)])"
   ]
  },
  {
   "cell_type": "code",
   "execution_count": 19,
   "metadata": {},
   "outputs": [],
   "source": [
    "r10math = np.array([[10., 8.4, 6.8, 5.199999999999999, 3.5999999999999996, \n",
    "  2.], [9.649999999999999, 8.25, 6.85, 5.449999999999999, \n",
    "  4.050000000000001, 2.6500000000000004], [9.3, 8.1, 6.9, \n",
    "  5.699999999999999, 4.5, 3.299999999999999], [8.95, 7.95, 6.95,\n",
    "   5.949999999999999, 4.95, \n",
    "  3.950000000000001], [8.600000000000001, 7.800000000000001, 7., \n",
    "  6.199999999999999, 5.3999999999999995, 4.6], [8.25, 7.65, \n",
    "  7.05, 6.449999999999999, 5.85, 5.25], [7.8999999999999995, \n",
    "  7.5, 7.1, 6.7, 6.300000000000001, 5.9], [7.549999999999999, \n",
    "  7.35, 7.15, 6.95, 6.750000000000001, 6.550000000000001], [7.2,\n",
    "   7.199999999999999, 7.2, 7.2, 7.2, 7.2], [6.8500000000000005, \n",
    "  7.05, 7.25, 7.449999999999999, 7.65, 7.85], [6.5, \n",
    "  6.8999999999999995, 7.300000000000001, 7.7, 8.100000000000001, \n",
    "  8.5], [6.1499999999999995, 6.749999999999999, \n",
    "  7.3500000000000005, 7.950000000000001, 8.55, \n",
    "  9.15], [5.799999999999999, 6.599999999999999, 7.4, \n",
    "  8.200000000000001, 9.000000000000002, 9.8], [5.449999999999999, \n",
    "  6.449999999999999, 7.45, 8.450000000000001, 9.450000000000001, \n",
    "  10.45], [5.1, 6.299999999999999, 7.500000000000001, \n",
    "  8.700000000000001, 9.900000000000002, \n",
    "  11.100000000000001], [4.75, 6.149999999999999, \n",
    "  7.550000000000001, 8.950000000000001, 10.350000000000001, \n",
    "  11.75], [4.3999999999999995, 5.999999999999999, \n",
    "  7.6000000000000005, 9.200000000000001, 10.8, \n",
    "  12.4], [4.049999999999999, 5.849999999999999, 7.65, \n",
    "  9.450000000000001, 11.250000000000002, \n",
    "  13.05], [3.6999999999999997, 5.699999999999998, \n",
    "  7.700000000000001, 9.700000000000001, 11.700000000000001, \n",
    "  13.7], [3.3499999999999996, 5.549999999999998, \n",
    "  7.750000000000001, 9.950000000000001, 12.150000000000002, \n",
    "  14.350000000000001], [3., 5.399999999999999, 7.800000000000001, \n",
    "  10.200000000000001, 12.600000000000001, 15.]])"
   ]
  },
  {
   "cell_type": "code",
   "execution_count": 20,
   "metadata": {},
   "outputs": [
    {
     "data": {
      "text/plain": [
       "6.128431095930864e-14"
      ]
     },
     "execution_count": 20,
     "metadata": {},
     "output_type": "execute_result"
    }
   ],
   "source": [
    "np.sum(np.abs(r10 - r10math))"
   ]
  },
  {
   "cell_type": "code",
   "execution_count": 21,
   "metadata": {},
   "outputs": [],
   "source": [
    "r11 = np.array([[ob.Finterp[1][1](r, p)[0] for p in np.linspace(phi[0],phi[-1],6)] for r in np.linspace(rt[0], rt[-1], 21)])"
   ]
  },
  {
   "cell_type": "code",
   "execution_count": 22,
   "metadata": {},
   "outputs": [],
   "source": [
    "r11math = np.array([[9., 7.5, 6., 4.499999999999999, 2.9999999999999996, \n",
    "  1.5], [8.95, 7.465, 5.98, 4.494999999999999, 3.01, \n",
    "  1.525], [8.9, 7.43, 5.96, 4.489999999999999, \n",
    "  3.0199999999999996, 1.55], [8.85, 7.3950000000000005, \n",
    "  5.9399999999999995, 4.484999999999999, 3.0299999999999994, \n",
    "  1.575], [8.8, 7.36, 5.92, 4.4799999999999995, \n",
    "  3.0399999999999996, 1.6], [8.75, 7.325, 5.9, 4.475, 3.05, \n",
    "  1.625], [8.7, 7.29, 5.88, 4.469999999999999, \n",
    "  3.0599999999999996, 1.65], [8.65, 7.255, 5.859999999999999, \n",
    "  4.464999999999999, 3.07, 1.675], [8.6, 7.220000000000001, \n",
    "  5.84, 4.459999999999999, 3.0799999999999996, 1.7], [8.55, \n",
    "  7.1850000000000005, 5.82, 4.454999999999999, 3.0899999999999994,\n",
    "   1.725], [8.5, 7.15, 5.8, 4.449999999999999, \n",
    "  3.0999999999999996, 1.75], [8.45, 7.115, 5.779999999999999, \n",
    "  4.444999999999999, 3.11, 1.775], [8.4, 7.08, 5.76, \n",
    "  4.4399999999999995, 3.1199999999999997, 1.8], [8.35, \n",
    "  7.045000000000001, 5.74, 4.435, 3.13, 1.825], [8.3, \n",
    "  7.010000000000001, 5.72, 4.43, 3.1399999999999997, \n",
    "  1.85], [8.25, 6.9750000000000005, 5.699999999999999, \n",
    "  4.424999999999999, 3.1499999999999995, 1.875], [8.2, 6.94, \n",
    "  5.68, 4.419999999999999, 3.1599999999999997, 1.9], [8.15, \n",
    "  6.905, 5.659999999999999, 4.414999999999999, 3.17, \n",
    "  1.925], [8.1, 6.870000000000001, 5.64, 4.409999999999999, \n",
    "  3.1799999999999997, 1.95], [8.05, 6.835000000000001, \n",
    "  5.619999999999999, 4.404999999999999, 3.19, 1.975], [8., \n",
    "  6.800000000000001, 5.6, 4.3999999999999995, 3.1999999999999997, \n",
    "  2.]])"
   ]
  },
  {
   "cell_type": "code",
   "execution_count": 23,
   "metadata": {},
   "outputs": [
    {
     "data": {
      "text/plain": [
       "6.128431095930864e-14"
      ]
     },
     "execution_count": 23,
     "metadata": {},
     "output_type": "execute_result"
    }
   ],
   "source": [
    "np.sum(np.abs(r10 - r10math))"
   ]
  },
  {
   "cell_type": "markdown",
   "metadata": {},
   "source": [
    "# 2. Integrator"
   ]
  },
  {
   "cell_type": "code",
   "execution_count": 1,
   "metadata": {},
   "outputs": [],
   "source": [
    "import sys\n",
    "sys.path.append('../code/')\n",
    "from lattice import *\n",
    "from observable import *\n",
    "import numpy as np\n",
    "import timeit"
   ]
  },
  {
   "cell_type": "code",
   "execution_count": 2,
   "metadata": {},
   "outputs": [],
   "source": [
    "latt = Lattice(('theta', 10), ('vz tilde', 0.0, 15.0, 121),\n",
    "                ('r tilde', 0.0, 5.0, 201), ('phir', 40))"
   ]
  },
  {
   "cell_type": "code",
   "execution_count": 3,
   "metadata": {},
   "outputs": [
    {
     "name": "stdout",
     "output_type": "stream",
     "text": [
      "[0.36787944 0.37699316 0.40474079 0.45208162 0.51969748 0.60653072\n",
      " 0.70787241 0.81374576 0.90892614 0.97582529 1.         0.97582523\n",
      " 0.90892603 0.81374563 0.70787228 0.6065306  0.51969738 0.45208154\n",
      " 0.40474074 0.37699314 0.36787944 0.37699316 0.40474079 0.45208162\n",
      " 0.51969748 0.60653072 0.70787241 0.81374576 0.90892614 0.97582529\n",
      " 1.         0.97582523 0.90892603 0.81374563 0.70787228 0.6065306\n",
      " 0.51969738 0.45208154 0.40474074 0.37699314]\n"
     ]
    }
   ],
   "source": [
    "f = np.exp(-np.cos(latt.lattice[3])*np.cos(latt.lattice[3]))\n",
    "print(f)"
   ]
  },
  {
   "cell_type": "code",
   "execution_count": 4,
   "metadata": {},
   "outputs": [],
   "source": [
    "ob = Observable(0.1, latt)"
   ]
  },
  {
   "cell_type": "markdown",
   "metadata": {},
   "source": [
    "<b>Time for the loops:</b>"
   ]
  },
  {
   "cell_type": "code",
   "execution_count": 5,
   "metadata": {},
   "outputs": [
    {
     "data": {
      "text/plain": [
       "0.07822334500000494"
      ]
     },
     "execution_count": 5,
     "metadata": {},
     "output_type": "execute_result"
    }
   ],
   "source": [
    "start = timeit.default_timer()\n",
    "for i in range(1000000):\n",
    "    a = 1\n",
    "timeit.default_timer()-start"
   ]
  },
  {
   "cell_type": "markdown",
   "metadata": {},
   "source": [
    "<font color=\"#ff0000\">10 times faster than Mathematica!</font>"
   ]
  },
  {
   "cell_type": "code",
   "execution_count": 6,
   "metadata": {},
   "outputs": [
    {
     "name": "stdout",
     "output_type": "stream",
     "text": [
      "0.00022710400000391928 0.49994791340399436\n"
     ]
    }
   ],
   "source": [
    "fr = np.exp(-latt.lattice[2]**2)\n",
    "start = timeit.default_timer()\n",
    "res = ob.drIntegrator(fr)\n",
    "print(timeit.default_timer()-start, res)"
   ]
  },
  {
   "cell_type": "markdown",
   "metadata": {},
   "source": [
    "<font color=\"#ff0000\">Comparable to Mathematica!</font>"
   ]
  },
  {
   "cell_type": "code",
   "execution_count": 7,
   "metadata": {},
   "outputs": [
    {
     "name": "stdout",
     "output_type": "stream",
     "text": [
      "0.00011903600000096048 0.49578717019302376\n"
     ]
    }
   ],
   "source": [
    "f = np.exp(-np.cos(latt.lattice[1])*np.cos(latt.lattice[1]))\n",
    "start = timeit.default_timer()\n",
    "res = ob.dvIntegrator(f)\n",
    "print(timeit.default_timer()-start, res)"
   ]
  },
  {
   "cell_type": "markdown",
   "metadata": {},
   "source": [
    "NIntegrate in Mathematica gives <font color='red'> 0.49565406681791935`.</font> "
   ]
  },
  {
   "cell_type": "code",
   "execution_count": 8,
   "metadata": {},
   "outputs": [
    {
     "name": "stdout",
     "output_type": "stream",
     "text": [
      "0.00011765500000393558 0.6450352645216424\n"
     ]
    }
   ],
   "source": [
    "f = np.exp(-np.cos(latt.lattice[ob.idx_ph])*np.cos(latt.lattice[ob.idx_ph]))\n",
    "start = timeit.default_timer()\n",
    "res = ob.dphiIntegrator(f)\n",
    "print(timeit.default_timer()-start, res)"
   ]
  },
  {
   "cell_type": "markdown",
   "metadata": {},
   "source": [
    "Mathematica is 2 times slower because it only take half values of $\\phi$."
   ]
  },
  {
   "cell_type": "code",
   "execution_count": 24,
   "metadata": {},
   "outputs": [],
   "source": [
    "A = np.array([[1.0, 0.15, 0.2],\n",
    "            [-0.15, 0.25, 0.1],\n",
    "            [-0.2, 0.1, 0.35]])"
   ]
  },
  {
   "cell_type": "code",
   "execution_count": 30,
   "metadata": {},
   "outputs": [
    {
     "name": "stdout",
     "output_type": "stream",
     "text": [
      "3.6948224170000685\n"
     ]
    }
   ],
   "source": [
    "start = timeit.default_timer()\n",
    "for i in range(10**5):\n",
    "    e, u = np.linalg.eig(A)\n",
    "print(timeit.default_timer()-start)"
   ]
  },
  {
   "cell_type": "code",
   "execution_count": 33,
   "metadata": {},
   "outputs": [
    {
     "name": "stdout",
     "output_type": "stream",
     "text": [
      "[0.8613406 0.55      0.1886594] [[ 0.87440657  0.48507125  0.02060349]\n",
      " [-0.2794288  -0.48507125 -0.83815885]\n",
      " [-0.39665185 -0.72760688  0.54503691]]\n"
     ]
    }
   ],
   "source": [
    "print(e,u)"
   ]
  },
  {
   "cell_type": "code",
   "execution_count": 31,
   "metadata": {},
   "outputs": [
    {
     "data": {
      "text/plain": [
       "2.7221118319280446"
      ]
     },
     "execution_count": 31,
     "metadata": {},
     "output_type": "execute_result"
    }
   ],
   "source": [
    "0.38183879300004264/0.140273"
   ]
  },
  {
   "cell_type": "markdown",
   "metadata": {},
   "source": [
    "<font color=\"#880088\"><b> It is about 3 times slower than Mathmatica!</b></font>"
   ]
  },
  {
   "cell_type": "markdown",
   "metadata": {},
   "source": [
    "# 3. $T^{\\mu\\nu}$"
   ]
  },
  {
   "cell_type": "code",
   "execution_count": 9,
   "metadata": {},
   "outputs": [],
   "source": [
    "import sys\n",
    "sys.path.append('../code/')\n",
    "from lattice import *\n",
    "from observable import *\n",
    "import numpy as np\n",
    "from initcond import *"
   ]
  },
  {
   "cell_type": "code",
   "execution_count": 10,
   "metadata": {},
   "outputs": [],
   "source": [
    "latt = Lattice(('r tilde', 0.0, 5.0, 201),\n",
    "                ('vz tilde', 0.0, 15.0, 121),\n",
    "                ('phir', 40),\n",
    "                ('theta', 10))"
   ]
  },
  {
   "cell_type": "code",
   "execution_count": 11,
   "metadata": {},
   "outputs": [],
   "source": [
    "t0, t = 0.1, 1.0\n",
    "ob = Observable(t0, latt)\n",
    "ob.setTime(t)\n",
    "ic = InitCond('gaussian', t0, (2, 0.0))"
   ]
  },
  {
   "cell_type": "code",
   "execution_count": 12,
   "metadata": {},
   "outputs": [],
   "source": [
    "F= ic.gauss(latt)\n",
    "ob.interp(F)"
   ]
  },
  {
   "cell_type": "markdown",
   "metadata": {},
   "source": [
    "## 3.1 Test the integrand"
   ]
  },
  {
   "cell_type": "code",
   "execution_count": 13,
   "metadata": {},
   "outputs": [
    {
     "name": "stdout",
     "output_type": "stream",
     "text": [
      "[5.86863397e+01+0.j 5.86863397e+01+0.j 5.86863397e-06+0.j\n",
      " 5.86863397e+01+0.j 5.86863397e-06+0.j 5.86863397e-13+0.j]\n",
      "[3.20416558e+03+0.j 3.20416558e+03+0.j 3.20416558e-04+0.j\n",
      " 3.20416558e+03+0.j 3.20416558e-04+0.j 3.20416558e-11+0.j]\n"
     ]
    }
   ],
   "source": [
    "print(ob.TuuIntegrand(0, 3.0, 0, 0))\n",
    "print(ob.TuuIntegrand(0, 1.0, 0, 0))"
   ]
  },
  {
   "cell_type": "code",
   "execution_count": 14,
   "metadata": {},
   "outputs": [
    {
     "name": "stdout",
     "output_type": "stream",
     "text": [
      "1\n",
      "2\n"
     ]
    }
   ],
   "source": [
    "print(ob.idx_v)\n",
    "print(ob.idx_ph)"
   ]
  },
  {
   "cell_type": "code",
   "execution_count": 15,
   "metadata": {},
   "outputs": [],
   "source": [
    "r = 1.0\n",
    "r1 = np.array([[ob.TuuIntegrand(0, 1.0, i, j) for j in range(len(latt.lattice[ob.idx_ph]))] for i in range(len(latt.lattice[ob.idx_v]))])"
   ]
  },
  {
   "cell_type": "code",
   "execution_count": 16,
   "metadata": {},
   "outputs": [
    {
     "ename": "FileNotFoundError",
     "evalue": "[Errno 2] No such file or directory: 'Tuu.dat'",
     "output_type": "error",
     "traceback": [
      "\u001b[0;31m---------------------------------------------------------------------------\u001b[0m",
      "\u001b[0;31mFileNotFoundError\u001b[0m                         Traceback (most recent call last)",
      "\u001b[0;32m<ipython-input-16-230e24d426ee>\u001b[0m in \u001b[0;36m<module>\u001b[0;34m\u001b[0m\n\u001b[0;32m----> 1\u001b[0;31m \u001b[0mf\u001b[0m \u001b[0;34m=\u001b[0m \u001b[0mopen\u001b[0m\u001b[0;34m(\u001b[0m\u001b[0;34m'Tuu.dat'\u001b[0m\u001b[0;34m)\u001b[0m\u001b[0;34m\u001b[0m\u001b[0;34m\u001b[0m\u001b[0m\n\u001b[0m",
      "\u001b[0;31mFileNotFoundError\u001b[0m: [Errno 2] No such file or directory: 'Tuu.dat'"
     ]
    }
   ],
   "source": [
    "f = open('Tuu.dat')"
   ]
  },
  {
   "cell_type": "code",
   "execution_count": 10,
   "metadata": {},
   "outputs": [],
   "source": [
    "f.seek(0)\n",
    "a = f.read().replace('\\t',',').replace('\\n',',').replace('{','').replace('}','').replace(' ','').replace('*^','e').split(',')"
   ]
  },
  {
   "cell_type": "code",
   "execution_count": 11,
   "metadata": {},
   "outputs": [],
   "source": [
    "tuumath = np.reshape(np.array([float(num) for num in a]), [len(latt.lattice[ob.idx_v]), len(latt.lattice[ob.idx_ph]),4])"
   ]
  },
  {
   "cell_type": "code",
   "execution_count": 12,
   "metadata": {},
   "outputs": [
    {
     "data": {
      "text/plain": [
       "3.5027536777950496e-12"
      ]
     },
     "execution_count": 12,
     "metadata": {},
     "output_type": "execute_result"
    }
   ],
   "source": [
    "np.sum(np.abs(np.array([[[tuumath[i, j, 0] - r1[i, j, 0], tuumath[i, j, 1] - r1[i, j, 1],\n",
    "            0.5*(tuumath[i, j, 2] + tuumath[i, j, 3]) - r1[i, j, 3],\n",
    "            0.5*(tuumath[i, j, 2] - tuumath[i, j, 3]) - r1[i, j, 5]\n",
    "           ] for j in range(len(latt.lattice[ob.idx_ph]))] for i in range(len(latt.lattice[ob.idx_v]))])))"
   ]
  },
  {
   "cell_type": "code",
   "execution_count": 6,
   "metadata": {},
   "outputs": [
    {
     "data": {
      "text/plain": [
       "array([320.4165582, 320.4165582,   0.       , 320.4165582,   0.       ,\n",
       "         0.       ])"
      ]
     },
     "execution_count": 6,
     "metadata": {},
     "output_type": "execute_result"
    }
   ],
   "source": [
    "ob.TuuIntegrand(0, 1.0, 0, 0)"
   ]
  },
  {
   "cell_type": "markdown",
   "metadata": {},
   "source": [
    "## 3.2 Test $T^{\\mu\\nu}$"
   ]
  },
  {
   "cell_type": "code",
   "execution_count": 5,
   "metadata": {},
   "outputs": [],
   "source": [
    "tuu = ob.Tuu(0.1,0.1)"
   ]
  },
  {
   "cell_type": "code",
   "execution_count": 11,
   "metadata": {},
   "outputs": [
    {
     "data": {
      "text/plain": [
       "array([ 0.00000000e+00, -1.66533454e-16,  4.44089210e-16, -3.12250226e-17])"
      ]
     },
     "execution_count": 11,
     "metadata": {},
     "output_type": "execute_result"
    }
   ],
   "source": [
    "np.array([tuu[0], tuu[1], (tuu[3] + tuu[5]), (tuu[3] - tuu[5])]) - np.array([3.68065104342643, 0.36610391244692897, 3.68065104342643, \\\n",
    "0.01802602221906938])"
   ]
  },
  {
   "cell_type": "code",
   "execution_count": 5,
   "metadata": {},
   "outputs": [
    {
     "name": "stdout",
     "output_type": "stream",
     "text": [
      "(40, 121, 6, 6)\n"
     ]
    },
    {
     "data": {
      "text/plain": [
       "array([[ 3.68065104e+00,  3.66103912e-01,  1.62939720e-17,\n",
       "         0.00000000e+00],\n",
       "       [ 3.66103912e-01,  1.84933853e+00,  2.42643179e-17,\n",
       "         0.00000000e+00],\n",
       "       [ 1.62939720e-17,  2.42643179e-17,  1.83131251e+00,\n",
       "         0.00000000e+00],\n",
       "       [ 0.00000000e+00,  0.00000000e+00,  0.00000000e+00,\n",
       "        -2.22044605e-16]])"
      ]
     },
     "execution_count": 5,
     "metadata": {},
     "output_type": "execute_result"
    }
   ],
   "source": [
    "ob.Tuu(0.1,0.1)"
   ]
  },
  {
   "cell_type": "markdown",
   "metadata": {},
   "source": [
    "## 3.3 Test RestFrame"
   ]
  },
  {
   "cell_type": "code",
   "execution_count": 6,
   "metadata": {},
   "outputs": [
    {
     "name": "stdout",
     "output_type": "stream",
     "text": [
      "(1, 0.1)\n",
      "[-1.90013247  0.82337142  1.07676106]\n",
      "[[-8.75962808e-01  4.82378646e-01  1.06042003e-16]\n",
      " [-4.82378646e-01  8.75962808e-01  1.69180533e-16]\n",
      " [-1.73012049e-17  3.14176677e-17  1.00000000e+00]]\n",
      "u =  [[-1.19801535e+00]\n",
      " [-6.59727807e-01]\n",
      " [-2.36620879e-17]]\n"
     ]
    },
    {
     "data": {
      "text/plain": [
       "(0.1900132470924937, array([1.19801535e+00, 6.59727807e-01, 2.36620879e-17]))"
      ]
     },
     "execution_count": 6,
     "metadata": {},
     "output_type": "execute_result"
    }
   ],
   "source": [
    "ob.RestFrame(1,0.1)"
   ]
  },
  {
   "cell_type": "code",
   "execution_count": 7,
   "metadata": {},
   "outputs": [
    {
     "name": "stdout",
     "output_type": "stream",
     "text": [
      "(2, 0.1)\n",
      "[-0.25275776  0.08830592  0.16445184]\n",
      "[[-7.90904014e-01  6.11940227e-01 -3.09976420e-16]\n",
      " [-6.11940227e-01  7.90904014e-01 -5.17046917e-16]\n",
      " [-4.92722061e-17  6.36820131e-17  1.00000000e+00]]\n",
      "u =  [[-1.57847051e+00]\n",
      " [-1.22129814e+00]\n",
      " [-9.83364896e-17]]\n"
     ]
    },
    {
     "data": {
      "text/plain": [
       "(0.02527577573882217, array([1.57847051e+00, 1.22129814e+00, 9.83364896e-17]))"
      ]
     },
     "execution_count": 7,
     "metadata": {},
     "output_type": "execute_result"
    }
   ],
   "source": [
    "ob.RestFrame(2,0.1)"
   ]
  },
  {
   "cell_type": "markdown",
   "metadata": {},
   "source": [
    "### A test of np.linalg.eig:"
   ]
  },
  {
   "cell_type": "code",
   "execution_count": 8,
   "metadata": {},
   "outputs": [],
   "source": [
    "A = np.array([[1,2],[3,4]])"
   ]
  },
  {
   "cell_type": "code",
   "execution_count": 11,
   "metadata": {},
   "outputs": [],
   "source": [
    "ei, ev = np.linalg.eig(A)"
   ]
  },
  {
   "cell_type": "code",
   "execution_count": 13,
   "metadata": {},
   "outputs": [
    {
     "data": {
      "text/plain": [
       "array([ 0.00000000e+00, -2.22044605e-16])"
      ]
     },
     "execution_count": 13,
     "metadata": {},
     "output_type": "execute_result"
    }
   ],
   "source": [
    "np.dot(A, ev[:, 0])/ei[0]-ev[:, 0]"
   ]
  },
  {
   "cell_type": "code",
   "execution_count": 14,
   "metadata": {},
   "outputs": [
    {
     "data": {
      "text/plain": [
       "array([-5.55111512e-17,  0.00000000e+00])"
      ]
     },
     "execution_count": 14,
     "metadata": {},
     "output_type": "execute_result"
    }
   ],
   "source": [
    "np.dot(A, ev[:, 1])/ei[1]-ev[:, 1]"
   ]
  },
  {
   "cell_type": "code",
   "execution_count": 7,
   "metadata": {},
   "outputs": [
    {
     "name": "stdout",
     "output_type": "stream",
     "text": [
      "((2, 1.0),)\n"
     ]
    }
   ],
   "source": [
    "t0, t = 0.1, 1.0\n",
    "ob = Observable(t0, latt)\n",
    "ob.setTime(t)\n",
    "ic = InitCond('gaussian', t0, (2, 1.0))"
   ]
  },
  {
   "cell_type": "code",
   "execution_count": 8,
   "metadata": {},
   "outputs": [],
   "source": [
    "F= ic.gauss(latt)\n",
    "ob.interp(F)"
   ]
  },
  {
   "cell_type": "code",
   "execution_count": 9,
   "metadata": {},
   "outputs": [
    {
     "name": "stdout",
     "output_type": "stream",
     "text": [
      "[[-6.64825513e+00  2.64641429e+00  1.03147172e-16]\n",
      " [-2.64641429e+00  3.21207379e+00  3.59970746e-17]\n",
      " [-1.03147172e-16  3.59970746e-17  3.43618134e+00]]\n",
      "[-5.87777973  2.44159839  3.43618134]\n",
      "[[-9.60135972e-01  2.79533388e-01  1.27790947e-17]\n",
      " [-2.79533388e-01  9.60135972e-01  9.71986784e-18]\n",
      " [-1.08951492e-17  3.74224514e-17  1.00000000e+00]]\n",
      "u =  [[-1.04528089e+00]\n",
      " [-3.04322427e-01]\n",
      " [-1.18613317e-17]]\n"
     ]
    },
    {
     "data": {
      "text/plain": [
       "(0.5877779726875585, array([1.04528089e+00, 3.04322427e-01, 1.18613317e-17]))"
      ]
     },
     "execution_count": 9,
     "metadata": {},
     "output_type": "execute_result"
    }
   ],
   "source": [
    "ob.RestFrame(1,0.1)"
   ]
  },
  {
   "cell_type": "code",
   "execution_count": null,
   "metadata": {},
   "outputs": [],
   "source": []
  }
 ],
 "metadata": {
  "kernelspec": {
   "display_name": "Python 3",
   "language": "python",
   "name": "python3"
  },
  "language_info": {
   "codemirror_mode": {
    "name": "ipython",
    "version": 3
   },
   "file_extension": ".py",
   "mimetype": "text/x-python",
   "name": "python",
   "nbconvert_exporter": "python",
   "pygments_lexer": "ipython3",
   "version": "3.7.3"
  }
 },
 "nbformat": 4,
 "nbformat_minor": 2
}
